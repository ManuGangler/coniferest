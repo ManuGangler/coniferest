{
 "cells": [
  {
   "cell_type": "code",
   "execution_count": 1,
   "metadata": {},
   "outputs": [],
   "source": [
    "%matplotlib notebook\n",
    "%load_ext autoreload\n",
    "%autoreload 2\n",
    "\n",
    "import numpy as np\n",
    "import matplotlib.pyplot as plt\n",
    "\n",
    "import sys\n",
    "sys.path.append('../')"
   ]
  },
  {
   "cell_type": "code",
   "execution_count": 2,
   "metadata": {},
   "outputs": [],
   "source": [
    "from coniferest.datasets import MalanchevDataset\n",
    "\n",
    "dataset = MalanchevDataset(inliers=1000, outliers=50)"
   ]
  },
  {
   "cell_type": "code",
   "execution_count": 5,
   "metadata": {},
   "outputs": [
    {
     "name": "stdout",
     "output_type": "stream",
     "text": [
      "0.0040090663414699135\n"
     ]
    }
   ],
   "source": [
    "from coniferest.isoforest import IsolationForest, IsolationForestAnomalyDetector\n",
    "\n",
    "\n",
    "def calc_isoforest_scores(random_seed):\n",
    "    isoforest = IsolationForest(n_trees=10000, random_seed=random_seed)\n",
    "    isoforest.fit(dataset.data)\n",
    "    return isoforest.score_samples(dataset.data)\n",
    "\n",
    "scores0 = calc_isoforest_scores(0)\n",
    "scores1 = calc_isoforest_scores(1)\n",
    "\n",
    "print(np.max(np.abs(scores0 - scores1)))"
   ]
  },
  {
   "cell_type": "code",
   "execution_count": 13,
   "metadata": {},
   "outputs": [
    {
     "name": "stdout",
     "output_type": "stream",
     "text": [
      "0.0038955880386039032\n"
     ]
    }
   ],
   "source": [
    "from coniferest.sklearn.isoforest import IsoforestEvaluator as SkForestEvaluator\n",
    "from sklearn.ensemble import IsolationForest as SkForest\n",
    "\n",
    "\n",
    "def calc_skforest_scores(random_seed):\n",
    "    skforest = SkForest(n_estimators=10000, random_state=random_seed)\n",
    "    skforest.fit(dataset.data)\n",
    "    return SkForestEvaluator(skforest).score_samples(dataset.data)\n",
    "\n",
    "\n",
    "skores0 = calc_skforest_scores(0)\n",
    "skores1 = calc_skforest_scores(1)\n",
    "\n",
    "print(np.max(np.abs(skores0 - skores1)))"
   ]
  },
  {
   "cell_type": "code",
   "execution_count": 14,
   "metadata": {},
   "outputs": [
    {
     "name": "stdout",
     "output_type": "stream",
     "text": [
      "0.0036263604919340997\n"
     ]
    }
   ],
   "source": [
    "print(np.max(np.abs(scores0 - skores0)))"
   ]
  }
 ],
 "metadata": {
  "kernelspec": {
   "display_name": "Python 3",
   "language": "python",
   "name": "python3"
  },
  "language_info": {
   "codemirror_mode": {
    "name": "ipython",
    "version": 3
   },
   "file_extension": ".py",
   "mimetype": "text/x-python",
   "name": "python",
   "nbconvert_exporter": "python",
   "pygments_lexer": "ipython3",
   "version": "3.8.9"
  }
 },
 "nbformat": 4,
 "nbformat_minor": 1
}
