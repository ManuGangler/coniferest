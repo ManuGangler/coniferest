{
 "cells": [
  {
   "cell_type": "code",
   "execution_count": null,
   "metadata": {},
   "outputs": [],
   "source": [
    "import numpy as np\n",
    "\n",
    "from isocedar.datasets import MalanchevDataset"
   ]
  },
  {
   "cell_type": "markdown",
   "metadata": {},
   "source": [
    "* Dataset is an o-by-f array, where o is objects and f is features.\n",
    "* Labels is a one-dimentional o array with three types of labels:\n",
    " * -1 for anomalies,\n",
    " * 0 for unknowns,\n",
    " * 1 for regular data."
   ]
  },
  {
   "cell_type": "code",
   "execution_count": 125,
   "metadata": {},
   "outputs": [],
   "source": [
    "%cython\n",
    "\n",
    "class RandomPineForest:\n",
    "    def __init__(self, trees=100, subsamples=256, depth=None, seed=0):\n",
    "        self.subsamples = subsamples\n",
    "        self.trees = trees\n",
    "        self.depth = depth\n",
    "        \n",
    "        self.seedseq = np.random.SeedSequence(seed)\n",
    "        self.rng = np.random.default_rng(seed)\n",
    "        \n",
    "        self.estimators = []\n",
    "        self.n = 0\n",
    "\n",
    "    def fit(self, data):\n",
    "        n = data.shape[0]\n",
    "        self.n = n\n",
    "        self.subsamples = self.subsamples if n > self.subsamples else n\n",
    "        \n",
    "        self.depth = self.depth or int(np.ceil(np.log2(self.subsamples)))\n",
    "\n",
    "        self.estimators = [None] * self.trees\n",
    "        seeds = self.seedseq.spawn(self.trees)\n",
    "        for i in range(self.trees):\n",
    "            subs = rng.choice(n, self.subsamples)\n",
    "            gen = RandomPineGenerator(data[subs, :], self.depth, seeds[i])\n",
    "            self.estimators[i] = gen.pine\n",
    "        \n",
    "        return self\n",
    "\n",
    "    def mean_paths(self, data):\n",
    "        means = np.zeros(data.shape[0])\n",
    "        for ti in range(self.trees):\n",
    "            means += self.estimators[ti].paths(data)\n",
    "        \n",
    "        means /= self.trees\n",
    "        return means\n",
    "\n",
    "    def scores(self, data):\n",
    "        means = self.mean_paths(data)\n",
    "        return - 2 ** (-means / average_path_length(self.subsamples))\n",
    "\n",
    "class RandomPine:\n",
    "    def __init__(self, features, selectors, values):\n",
    "        self.features = features\n",
    "        self.len = selectors.shape[0]\n",
    "        \n",
    "        # Two complementary arrays.\n",
    "        # Selectors select feature to branch on.\n",
    "        self.selectors = selectors\n",
    "        # Values either set the deciding feature value or set the closing path length\n",
    "        self.values = values\n",
    "\n",
    "    def _get_one_path(self, key):\n",
    "        i = 1\n",
    "        while 2 * i < self.selectors.shape[0]:\n",
    "            f = self.selectors[i]\n",
    "            if f < 0:\n",
    "                break\n",
    "            \n",
    "            if key[f] <= self.values[i]:\n",
    "                i = 2 * i\n",
    "            else:\n",
    "                i = 2 * i + 1\n",
    "        \n",
    "        return self.values[i]\n",
    "    \n",
    "    def paths(self, x):\n",
    "        n = x.shape[0]\n",
    "        paths = np.empty(n)\n",
    "        for i in range(n):\n",
    "            paths[i] = self._get_one_path(x[i, :])\n",
    "        \n",
    "        return paths\n",
    "\n",
    "\n",
    "class RandomPineGenerator:\n",
    "    def __init__(self, sample, depth, seed=0):\n",
    "        self.depth = depth\n",
    "        self.features = sample.shape[1]\n",
    "        self.length = 1 << (depth + 1)\n",
    "        self.rng = np.random.default_rng(seed)\n",
    "        self.selectors = np.full(self.length, -1, dtype=np.int32)\n",
    "        self.values = np.full(self.length, 0, dtype=np.float64)\n",
    "        \n",
    "        self._populate(1, sample)\n",
    "        self.pine = RandomPine(self.features, self.selectors, self.values)\n",
    "    \n",
    "    def _populate(self, i, sample):\n",
    "        if sample.shape[0] == 1:\n",
    "            self.values[i] = np.floor(np.log2(i))\n",
    "            return\n",
    "        \n",
    "        if self.length <= 2 * i:\n",
    "            self.values[i] = np.floor(np.log2(i)) + \\\n",
    "                average_path_length(sample.shape[0])\n",
    "            return\n",
    "        \n",
    "        selector = self.rng.integers(self.features)\n",
    "        self.selectors[i] = selector\n",
    "\n",
    "        minval = np.min(sample[:, selector])\n",
    "        maxval = np.max(sample[:, selector])\n",
    "        if minval == maxval:\n",
    "            self.values[i] = np.floor(np.log2(i)) + \\\n",
    "                average_path_length(sample.shape[0])\n",
    "            return\n",
    "\n",
    "        value = self.rng.uniform(minval, maxval)\n",
    "        self.values[i] = value\n",
    "\n",
    "        self._populate(2 * i, sample[sample[:, selector] <= value])\n",
    "        self._populate(2 * i + 1, sample[sample[:, selector] > value])\n",
    "\n",
    "\n",
    "def average_path_length(n):\n",
    "    if n <= 1:\n",
    "        return 0\n",
    "    elif n == 2:\n",
    "        return 1\n",
    "    else:\n",
    "        return 2.0 * (np.log(n - 1.0) + np.euler_gamma) - 2.0 * (n - 1.0) / n"
   ]
  },
  {
   "cell_type": "code",
   "execution_count": null,
   "metadata": {},
   "outputs": [],
   "source": [
    "dataset = MalanchevDataset(inliers=2**16, outliers=4)"
   ]
  },
  {
   "cell_type": "code",
   "execution_count": 142,
   "metadata": {},
   "outputs": [
    {
     "name": "stdout",
     "output_type": "stream",
     "text": [
      "CPU times: user 439 ms, sys: 3.01 ms, total: 442 ms\n",
      "Wall time: 439 ms\n"
     ]
    }
   ],
   "source": [
    "%%time\n",
    "forest = RandomPineForest().fit(dataset.data)"
   ]
  },
  {
   "cell_type": "code",
   "execution_count": 143,
   "metadata": {},
   "outputs": [
    {
     "name": "stdout",
     "output_type": "stream",
     "text": [
      "CPU times: user 2min 1s, sys: 3.37 ms, total: 2min 1s\n",
      "Wall time: 2min 1s\n"
     ]
    }
   ],
   "source": [
    "%%time\n",
    "scores = forest.scores(dataset.data)"
   ]
  },
  {
   "cell_type": "code",
   "execution_count": 144,
   "metadata": {},
   "outputs": [
    {
     "name": "stdout",
     "output_type": "stream",
     "text": [
      "CPU times: user 360 ms, sys: 998 µs, total: 361 ms\n",
      "Wall time: 360 ms\n"
     ]
    }
   ],
   "source": [
    "%%time\n",
    "isoforest = IsolationForest().fit(dataset.data)"
   ]
  },
  {
   "cell_type": "code",
   "execution_count": 145,
   "metadata": {},
   "outputs": [
    {
     "name": "stdout",
     "output_type": "stream",
     "text": [
      "CPU times: user 1.54 s, sys: 28.1 ms, total: 1.57 s\n",
      "Wall time: 1.57 s\n"
     ]
    }
   ],
   "source": [
    "%%time\n",
    "isoscores = isoforest.score_samples(dataset.data)"
   ]
  }
 ],
 "metadata": {
  "kernelspec": {
   "display_name": "Python 3",
   "language": "python",
   "name": "python3"
  },
  "language_info": {
   "codemirror_mode": {
    "name": "ipython",
    "version": 3
   },
   "file_extension": ".py",
   "mimetype": "text/x-python",
   "name": "python",
   "nbconvert_exporter": "python",
   "pygments_lexer": "ipython3",
   "version": "3.8.9"
  }
 },
 "nbformat": 4,
 "nbformat_minor": 1
}
