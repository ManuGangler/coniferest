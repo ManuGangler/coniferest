{
 "cells": [
  {
   "cell_type": "code",
   "execution_count": 15,
   "metadata": {},
   "outputs": [
    {
     "name": "stdout",
     "output_type": "stream",
     "text": [
      "The cython extension is already loaded. To reload it, use:\n",
      "  %reload_ext cython\n"
     ]
    }
   ],
   "source": [
    "%load_ext cython\n",
    "\n",
    "import numpy as np\n",
    "\n",
    "from isocedar.datasets import MalanchevDataset\n",
    "from sklearn.ensemble import IsolationForest"
   ]
  },
  {
   "cell_type": "markdown",
   "metadata": {},
   "source": [
    "* Dataset is an o-by-f array, where o is objects and f is features.\n",
    "* Labels is a one-dimentional o array with three types of labels:\n",
    " * -1 for anomalies,\n",
    " * 0 for unknowns,\n",
    " * 1 for regular data."
   ]
  },
  {
   "cell_type": "code",
   "execution_count": 8,
   "metadata": {},
   "outputs": [],
   "source": [
    "class RandomPineForest:\n",
    "    def __init__(self, trees=100, subsamples=256, depth=None, seed=0):\n",
    "        self.subsamples = subsamples\n",
    "        self.trees = trees\n",
    "        self.depth = depth\n",
    "        \n",
    "        self.seedseq = np.random.SeedSequence(seed)\n",
    "        self.rng = np.random.default_rng(seed)\n",
    "        \n",
    "        self.estimators = []\n",
    "        self.n = 0\n",
    "\n",
    "    def fit(self, data):\n",
    "        n = data.shape[0]\n",
    "        self.n = n\n",
    "        self.subsamples = self.subsamples if n > self.subsamples else n\n",
    "        \n",
    "        self.depth = self.depth or int(np.ceil(np.log2(self.subsamples)))\n",
    "\n",
    "        self.estimators = [None] * self.trees\n",
    "        seeds = self.seedseq.spawn(self.trees)\n",
    "        for i in range(self.trees):\n",
    "            subs = self.rng.choice(n, self.subsamples)\n",
    "            gen = RandomPineGenerator(data[subs, :], self.depth, seeds[i])\n",
    "            self.estimators[i] = gen.pine\n",
    "        \n",
    "        return self\n",
    "\n",
    "    def mean_paths(self, data):\n",
    "        means = np.zeros(data.shape[0])\n",
    "        for ti in range(self.trees):\n",
    "            means += self.estimators[ti].paths(data)\n",
    "        \n",
    "        means /= self.trees\n",
    "        return means\n",
    "\n",
    "    def scores(self, data):\n",
    "        means = self.mean_paths(data)\n",
    "        return - 2 ** (-means / average_path_length(self.subsamples))\n",
    "\n",
    "\n",
    "class RandomPine:\n",
    "    def __init__(self, features, selectors, values):\n",
    "        self.features = features\n",
    "        self.len = selectors.shape[0]\n",
    "        \n",
    "        # Two complementary arrays.\n",
    "        # Selectors select feature to branch on.\n",
    "        self.selectors = selectors\n",
    "        # Values either set the deciding feature value or set the closing path length\n",
    "        self.values = values\n",
    "\n",
    "    def _get_one_path(self, key):\n",
    "        i = 1\n",
    "        while 2 * i < self.selectors.shape[0]:\n",
    "            f = self.selectors[i]\n",
    "            if f < 0:\n",
    "                break\n",
    "            \n",
    "            if key[f] <= self.values[i]:\n",
    "                i = 2 * i\n",
    "            else:\n",
    "                i = 2 * i + 1\n",
    "        \n",
    "        return self.values[i]\n",
    "    \n",
    "    def paths(self, x):\n",
    "        n = x.shape[0]\n",
    "        paths = np.empty(n)\n",
    "        for i in range(n):\n",
    "            paths[i] = self._get_one_path(x[i, :])\n",
    "        \n",
    "        return paths\n",
    "\n",
    "\n",
    "class RandomPineGenerator:\n",
    "    def __init__(self, sample, depth, seed=0):\n",
    "        self.depth = depth\n",
    "        self.features = sample.shape[1]\n",
    "        self.length = 1 << (depth + 1)\n",
    "        self.rng = np.random.default_rng(seed)\n",
    "        self.selectors = np.full(self.length, -1, dtype=np.int32)\n",
    "        self.values = np.full(self.length, 0, dtype=np.float64)\n",
    "        \n",
    "        self._populate(1, sample)\n",
    "        self.pine = RandomPine(self.features, self.selectors, self.values)\n",
    "    \n",
    "    def _populate(self, i, sample):\n",
    "        if sample.shape[0] == 1:\n",
    "            self.values[i] = np.floor(np.log2(i))\n",
    "            return\n",
    "        \n",
    "        if self.length <= 2 * i:\n",
    "            self.values[i] = np.floor(np.log2(i)) + \\\n",
    "                average_path_length(sample.shape[0])\n",
    "            return\n",
    "        \n",
    "        selector = self.rng.integers(self.features)\n",
    "        self.selectors[i] = selector\n",
    "\n",
    "        minval = np.min(sample[:, selector])\n",
    "        maxval = np.max(sample[:, selector])\n",
    "        if minval == maxval:\n",
    "            self.values[i] = np.floor(np.log2(i)) + \\\n",
    "                average_path_length(sample.shape[0])\n",
    "            return\n",
    "\n",
    "        value = self.rng.uniform(minval, maxval)\n",
    "        self.values[i] = value\n",
    "\n",
    "        self._populate(2 * i, sample[sample[:, selector] <= value])\n",
    "        self._populate(2 * i + 1, sample[sample[:, selector] > value])\n",
    "\n",
    "\n",
    "def average_path_length(n):\n",
    "    if n <= 1:\n",
    "        return 0\n",
    "    elif n == 2:\n",
    "        return 1\n",
    "    else:\n",
    "        return 2.0 * (np.log(n - 1.0) + np.euler_gamma) - 2.0 * (n - 1.0) / n"
   ]
  },
  {
   "cell_type": "code",
   "execution_count": 82,
   "metadata": {},
   "outputs": [],
   "source": [
    "%%cython\n",
    "\n",
    "import numpy as np\n",
    "cimport numpy as np\n",
    "\n",
    "\n",
    "def pine_sample_scores(selectors, values, data):\n",
    "    scores = np.zeros(data.shape[0])\n",
    "    _sample_scores(selectors, values, data, scores)\n",
    "    return scores\n",
    "\n",
    "\n",
    "cdef void _sample_scores(np.ndarray[np.int_t, ndim=2] selectors,\n",
    "                         np.ndarray[np.double_t, ndim=2] values,\n",
    "                         np.ndarray[np.double_t, ndim=2] data,\n",
    "                         np.ndarray[np.double_t] scores):\n",
    "    cdef Py_ssize_t i = 0\n",
    "    \n",
    "    for i in range(scores.shape[0]):\n",
    "        scores[i] = data[i, 0]"
   ]
  },
  {
   "cell_type": "code",
   "execution_count": 83,
   "metadata": {},
   "outputs": [],
   "source": [
    "import numpy as np\n",
    "\n",
    "\n",
    "class PineEvaluator:\n",
    "    def __init__(self, pine_forest):\n",
    "        pines = pine_forest.estimators\n",
    "        self.trees = len(pines)\n",
    "        if self.trees < 1:\n",
    "            raise ValueError('a forest without trees?')\n",
    "\n",
    "        self.leafs = pines[0].selectors.shape[0]\n",
    "\n",
    "        self.selectors = np.empty((self.trees, self.leafs), dtype=int)\n",
    "        self.values = np.empty((self.trees, self.leafs), dtype=float)\n",
    "        \n",
    "        #self._populate(self, pines)\n",
    "    \n",
    "    def _populate(self, pines):\n",
    "        for it in range(len(pines)):\n",
    "            if pines[it].selectors.shape[0] != self.leafs:\n",
    "                raise ValueError('trees must be of equal depth to use evaluator')\n",
    "\n",
    "            self.selectors[it, :] = pines[it].selectors\n",
    "            self.values[it, :] = pines[it].values\n",
    "    \n",
    "    def sample_score(self, x):\n",
    "        return pine_sample_scores(self.selectors, self.values, x)"
   ]
  },
  {
   "cell_type": "code",
   "execution_count": 84,
   "metadata": {},
   "outputs": [
    {
     "data": {
      "text/plain": [
       "array([0.31848084, 0.02048676, 0.40663512, ..., 1.1062101 , 1.08159646,\n",
       "       1.09534329])"
      ]
     },
     "execution_count": 84,
     "metadata": {},
     "output_type": "execute_result"
    }
   ],
   "source": [
    "pe = PineEvaluator(forest)\n",
    "pe.sample_score(dataset.data)"
   ]
  },
  {
   "cell_type": "code",
   "execution_count": 85,
   "metadata": {},
   "outputs": [
    {
     "data": {
      "text/plain": [
       "array([0.31848084, 0.02048676, 0.40663512, ..., 1.1062101 , 1.08159646,\n",
       "       1.09534329])"
      ]
     },
     "execution_count": 85,
     "metadata": {},
     "output_type": "execute_result"
    }
   ],
   "source": [
    "dataset.data[:, 0]"
   ]
  },
  {
   "cell_type": "code",
   "execution_count": 9,
   "metadata": {},
   "outputs": [],
   "source": [
    "dataset = MalanchevDataset(inliers=2**16, outliers=4)"
   ]
  },
  {
   "cell_type": "code",
   "execution_count": 10,
   "metadata": {},
   "outputs": [
    {
     "name": "stdout",
     "output_type": "stream",
     "text": [
      "CPU times: user 478 ms, sys: 2.92 ms, total: 481 ms\n",
      "Wall time: 481 ms\n"
     ]
    }
   ],
   "source": [
    "%%time\n",
    "forest = RandomPineForest().fit(dataset.data)"
   ]
  },
  {
   "cell_type": "code",
   "execution_count": 11,
   "metadata": {},
   "outputs": [
    {
     "name": "stdout",
     "output_type": "stream",
     "text": [
      "CPU times: user 2min 11s, sys: 8.71 ms, total: 2min 11s\n",
      "Wall time: 2min 11s\n"
     ]
    }
   ],
   "source": [
    "%%time\n",
    "scores = forest.scores(dataset.data)"
   ]
  },
  {
   "cell_type": "code",
   "execution_count": 16,
   "metadata": {},
   "outputs": [
    {
     "name": "stdout",
     "output_type": "stream",
     "text": [
      "CPU times: user 365 ms, sys: 3 ms, total: 368 ms\n",
      "Wall time: 367 ms\n"
     ]
    }
   ],
   "source": [
    "%%time\n",
    "isoforest = IsolationForest().fit(dataset.data)"
   ]
  },
  {
   "cell_type": "code",
   "execution_count": 17,
   "metadata": {},
   "outputs": [
    {
     "name": "stdout",
     "output_type": "stream",
     "text": [
      "CPU times: user 1.43 s, sys: 10 ms, total: 1.44 s\n",
      "Wall time: 1.44 s\n"
     ]
    }
   ],
   "source": [
    "%%time\n",
    "isoscores = isoforest.score_samples(dataset.data)"
   ]
  },
  {
   "cell_type": "code",
   "execution_count": null,
   "metadata": {},
   "outputs": [],
   "source": []
  }
 ],
 "metadata": {
  "kernelspec": {
   "display_name": "Python 3",
   "language": "python",
   "name": "python3"
  },
  "language_info": {
   "codemirror_mode": {
    "name": "ipython",
    "version": 3
   },
   "file_extension": ".py",
   "mimetype": "text/x-python",
   "name": "python",
   "nbconvert_exporter": "python",
   "pygments_lexer": "ipython3",
   "version": "3.8.9"
  }
 },
 "nbformat": 4,
 "nbformat_minor": 1
}
